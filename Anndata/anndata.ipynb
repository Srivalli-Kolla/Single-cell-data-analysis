{
 "cells": [
  {
   "cell_type": "markdown",
   "metadata": {},
   "source": [
    "Annotating data which is in matrix (N x D) \n",
    "**obs** N observations - Samples or cell types - uni dimensional\n",
    "**var** D dimensional vectors -  Variables - uni dimensional\n",
    "**Layers**  different forms of our original core data - may be normalized data in log form and raw data\n",
    "\n",
    "obs - One-dimensional annotation of observations (pd.DataFrame).\n",
    "obs_names - Names of observations (alias for .obs.index).\n",
    "obsm - Multi-dimensional annotation of observations (mutable structured ndarray).\n",
    "obsp - Pairwise annotation of observations, a mutable mapping with array-like values.\n",
    "\n",
    "var - One-dimensional annotation of variables/ features (pd.DataFrame).\n",
    "var_names - Names of variables (alias for .var.index).\n",
    "varm - Multi-dimensional annotation of variables/features (mutable structured ndarray).\n",
    "varp - Pairwise annotation of variables/features, a mutable mapping with array-like values."
   ]
  },
  {
   "cell_type": "code",
   "execution_count": null,
   "metadata": {},
   "outputs": [],
   "source": [
    "#Importing packages # Make sure that all required packages are downloaded in given environment (conda activate anndata)\n",
    "import numpy as np\n",
    "import pandas as pd\n",
    "import anndata as ad\n",
    "from scipy.sparse import csr_matrix"
   ]
  },
  {
   "cell_type": "code",
   "execution_count": null,
   "metadata": {},
   "outputs": [],
   "source": [
    "#INITIALIZING ANNDATA#\n",
    "\n",
    "#Reading h5ad data\n",
    "h5data = ad.read_h5ad(\"/Users/srivalli/Desktop/Heart/hca_heart_immune_download.h5ad\")\n",
    "\n",
    "#Data structure of anndata file i.e., summary stastics of the data\n",
    "#To view\n",
    "ad.AnnData(h5data)\n",
    "#To assign\n",
    "adata = ad.AnnData(h5data)\n",
    "\n",
    "#Making matrix with the anndata\n",
    "matrix = adata.X ##ONLY IF REQUIRED"
   ]
  },
  {
   "cell_type": "code",
   "execution_count": null,
   "metadata": {},
   "outputs": [],
   "source": [
    "#SUBSETTING DATA WHEN OBS AND VAR NAMES ARE AVAILABLE#\n",
    "\n",
    "#Subsetting data when gender is female\n",
    "bdata  = adata[adata.obs.cell_source == \"Female\"]\n",
    "bdata\n",
    "\n",
    "#To view it\n",
    "#bdata.obs\n",
    "\n",
    "#Subsetting data when scNym(Semi-supervised adversarial neural networks for single cell classification) is CD4+T_cell\n",
    "cdata  = adata[adata.obs.scNym == \"CD4+T_cell\"]\n",
    "cdata\n",
    "\n",
    "#To view it\n",
    "#cdata.obs"
   ]
  },
  {
   "cell_type": "code",
   "execution_count": null,
   "metadata": {},
   "outputs": [],
   "source": [
    "#SUBSETTING DATA WHEN OBS AND VAR NAMES ARE NOT AVAILABLE#\n",
    "\n",
    "#Indexing file with numbers which can be used as obs/var names\n",
    " \n",
    "testdata.obs_names = [f\"Cell_{i:d}\" for i in range(adata.n_obs)]\n",
    "testdata.var_names = [f\"Gene_{i:d}\" for i in range(adata.n_vars)]\n",
    "\n",
    "#To view\n",
    "print(testdata.obs_names[:10])\n",
    "\n",
    "#Subsetting with obs and var of interest(cells and genes)\n",
    "testdata[[\"Cell_1\", \"Cell_10\"], [\"Gene_5\", \"Gene_1900\"]]"
   ]
  },
  {
   "cell_type": "code",
   "execution_count": null,
   "metadata": {},
   "outputs": [],
   "source": [
    "#ADDING ALIGNED METADATA#   \n",
    "\n",
    "#Adding more information to the dataset which is aligned \n",
    "\n",
    "#Adding randomly to obs\n",
    "ct = np.random.choice([\"B\", \"T\", \"Monocyte\"], size=(adata.n_obs))\n",
    "adata.obs[\"cell_type\"] = pd.Categorical(ct)  # Categoricals are preferred for efficiency\n",
    "adata.obs\n"
   ]
  },
  {
   "cell_type": "code",
   "execution_count": null,
   "metadata": {},
   "outputs": [],
   "source": [
    "\n",
    "#Making a new column cs_short and assigning HN values to it\n",
    "adata.obs['cs_short'] = \"HN\"\n",
    "\n",
    "#When I want to assign SC for cell name Sanger-CD45\n",
    "sanger = ['Sanger-CD45']\n",
    "adata.obs.loc[sanger,'cs_short'] = 'SC'\n",
    "adata.obs\n",
    "\n",
    "#When I want to assign apex for multiple cell name apex\n",
    "apex = ['AAGACTCTCAGGACGA-1-H0015_apex' , 'AACAACCGTAATTGGA-1-H0015_apex']\n",
    "adata.obs.loc[apex,'cs_short'] = 'Apex'\n",
    "adata.obs"
   ]
  },
  {
   "cell_type": "code",
   "execution_count": null,
   "metadata": {},
   "outputs": [],
   "source": [
    "#MAKING LAYERS OF DATA\n",
    "\n",
    "#Normalized data using log transformation\n",
    "adata.layers[\"log_transformed\"] = np.log1p(adata.X)\n",
    "adata\n",
    "\n",
    "#Making a dataframe of log values\n",
    "logdata = adata.to_df(layer=\"log_transformed\")\n",
    "logdata\n"
   ]
  },
  {
   "cell_type": "code",
   "execution_count": null,
   "metadata": {},
   "outputs": [],
   "source": [
    "#To view the layers in anndata\n",
    "ad.AnnData.adata"
   ]
  },
  {
   "cell_type": "code",
   "execution_count": null,
   "metadata": {},
   "outputs": [],
   "source": [
    "#Saving data into file\n",
    "adata.write('/Users/srivalli/Documents/GitHub/Single-cell-data-analysis/Anndata/output/my_results.h5ad', compression=\"gzip\")\n",
    "logdata.to_csv('/Users/srivalli/Documents/GitHub/Single-cell-data-analysis/Anndata/output/logdata.txt')"
   ]
  }
 ],
 "metadata": {
  "kernelspec": {
   "display_name": "anndata",
   "language": "python",
   "name": "python3"
  },
  "language_info": {
   "codemirror_mode": {
    "name": "ipython",
    "version": 3
   },
   "file_extension": ".py",
   "mimetype": "text/x-python",
   "name": "python",
   "nbconvert_exporter": "python",
   "pygments_lexer": "ipython3",
   "version": "3.12.2"
  }
 },
 "nbformat": 4,
 "nbformat_minor": 2
}
