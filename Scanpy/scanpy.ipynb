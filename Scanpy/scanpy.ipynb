{
 "cells": [
  {
   "cell_type": "code",
   "execution_count": null,
   "metadata": {},
   "outputs": [],
   "source": [
    "#All the following script and comments have been made in accordance to single cell  data ##\n",
    "\n",
    "#Importing packages # Make sure that you activate correct environment (conda activate scanpy)\n",
    "import pandas as pd\n",
    "import scanpy as sc\n",
    "\n",
    "sc.settings.verbosity = 3  # verbosity: errors (0), warnings (1), info (2), hints (3)\n",
    "sc.logging.print_header()\n",
    "sc.settings.set_figure_params(dpi=80, facecolor=\"white\")\n",
    "\n",
    "#writing output file\n",
    "results_file = \"/Users/srivalli/Documents/GitHub/Single-cell-data-analysis/Scanpy/output/heart_immune_scanpy.h5ad\""
   ]
  },
  {
   "cell_type": "code",
   "execution_count": null,
   "metadata": {},
   "outputs": [],
   "source": [
    "#Reading the h5ad file\n",
    "adata = sc.read_h5ad('/Users/srivalli/Desktop/Heart/hca_heart_immune_download.h5ad')\n",
    "adata"
   ]
  },
  {
   "cell_type": "code",
   "execution_count": null,
   "metadata": {},
   "outputs": [],
   "source": [
    "#PREPROCESSING#\n",
    "\n",
    "#Viewing genes that contributes the largest portion in a cell\n",
    "sc.pl.highest_expr_genes(adata, n_top=20)\n",
    "\n",
    "#Filtering genes and cells\n",
    "sc.pp.filter_cells(adata, min_genes=200)\n",
    "sc.pp.filter_genes(adata, min_cells=3)\n",
    "\n",
    "#Above filtering considers only cells having min 200 genes as a primary criteria and filters the genes which are found in minimum of 3 cells"
   ]
  },
  {
   "cell_type": "code",
   "execution_count": null,
   "metadata": {},
   "outputs": [],
   "source": [
    "# Selecting the group of mitochondrial genes -- GENES OF INTEREST\n",
    "adata.var[\"mt\"] = adata.var_names.str.startswith(\"MT-\")\n",
    "adata.var\n",
    "\n",
    "#Calculating desired metrics \n",
    "sc.pp.calculate_qc_metrics(adata, qc_vars=[\"mt\"], percent_top=None, log1p=False, inplace = True)"
   ]
  },
  {
   "cell_type": "code",
   "execution_count": null,
   "metadata": {},
   "outputs": [],
   "source": [
    "#Graphical representation of data\n",
    "\n",
    "#Violin plots\n",
    "sc.pl.violin(adata,[\"n_genes_by_counts\", \"total_counts\", \"pct_counts_mt\"],jitter=0.4,multi_panel=True)\n",
    "\n",
    "#Scatter plots\n",
    "sc.pl.scatter(adata, x=\"total_counts\", y=\"pct_counts_mt\")\n",
    "sc.pl.scatter(adata, x=\"total_counts\", y=\"n_genes_by_counts\")"
   ]
  },
  {
   "cell_type": "code",
   "execution_count": null,
   "metadata": {},
   "outputs": [],
   "source": [
    "# If we want to slice/Filter the data\n",
    "\n",
    "#Based on number of genes\n",
    "adata = adata[adata.obs.n_genes_by_counts < 2500, :]\n",
    "\n",
    "#Based on percentage of mitochondrial genes\n",
    "adata = adata[adata.obs.pct_counts_mt < 5, :].copy()\n",
    "\n",
    "#Normalizing data matrix to have 10,000 reads per cell to make counts comparable\n",
    "sc.pp.normalize_total(adata, target_sum=1e4)\n",
    "\n",
    "#Logarithmization of data\n",
    "sc.pp.log1p(adata)"
   ]
  },
  {
   "cell_type": "code",
   "execution_count": null,
   "metadata": {},
   "outputs": [],
   "source": [
    "#Identifying high variable genes\n",
    "sc.pp.highly_variable_genes(adata, min_mean=0.0125, max_mean=3, min_disp=0.5)\n",
    "sc.pl.highly_variable_genes(adata)"
   ]
  },
  {
   "cell_type": "code",
   "execution_count": null,
   "metadata": {},
   "outputs": [],
   "source": [
    "#Saving data as a backup so we wont loose it later\n",
    "\n",
    "#Saving normalized and logarithmic data which is not corrected as raw\n",
    "\n",
    "adata.raw = adata"
   ]
  },
  {
   "cell_type": "code",
   "execution_count": null,
   "metadata": {},
   "outputs": [],
   "source": [
    "#Scaling data\n",
    "#Filtering or selecting columns (genes) based on the highly variable genes identified\n",
    "adata = adata[:, adata.var.highly_variable]\n",
    "\n",
    "#Regression of data i.e., Removing batch effects based on criteria of interest\n",
    "sc.pp.regress_out(adata, [\"total_counts\", \"pct_counts_mt\"])\n",
    "\n",
    "#Scaling gene expression to make it comparable across cells\n",
    "sc.pp.scale(adata, max_value=10)\n",
    "\n",
    "#To view it\n",
    "adata"
   ]
  },
  {
   "cell_type": "code",
   "execution_count": null,
   "metadata": {},
   "outputs": [],
   "source": [
    "##PRINCIPAL COMPONENT ANALYSIS##\n",
    "\n",
    "#Reducing dimensions\n",
    "sc.tl.pca(adata, svd_solver=\"arpack\")\n",
    "\n",
    "#To view the principal components\n",
    "adata.obsm['X_pca']\n",
    "\n",
    "#Scatter plot for PCA components for visualization \n",
    "sc.pl.pca(adata)\n",
    "\n",
    "#Scatter plot for PCA components for visualization based on coloring of genes\n",
    "sc.pl.pca(adata,color= \"CST3\")"
   ]
  },
  {
   "cell_type": "code",
   "execution_count": null,
   "metadata": {},
   "outputs": [],
   "source": [
    "#Number of PCs to be considered for the data\n",
    "sc.tl.tsne(adata)\n",
    "\n",
    "#To know the values and count\n",
    "adata.obsm['X_pca']"
   ]
  },
  {
   "cell_type": "code",
   "execution_count": null,
   "metadata": {},
   "outputs": [],
   "source": [
    "#Estimates of Principal components contribution to the total variance of the data\n",
    "sc.pl.pca_variance_ratio(adata, log=True)\n",
    "\n",
    "#Saving results\n",
    "adata.write(results_file)\n",
    "adata"
   ]
  },
  {
   "cell_type": "code",
   "execution_count": null,
   "metadata": {},
   "outputs": [],
   "source": [
    "#COMPUTING NEIGHBOUIRHOOD GRAPH#\n",
    "sc.pp.neighbors(adata)\n",
    "\n",
    "#Can add n_neighbors and n_pca parameters if we would like to consider making clusters based on given params#"
   ]
  },
  {
   "cell_type": "code",
   "execution_count": null,
   "metadata": {},
   "outputs": [],
   "source": [
    "#EMBEDDING THE NEIGHBOURHOOD GRAPH\n",
    "\n",
    "#Assinging cells to clusters\n",
    "sc.tl.louvain(adata)\n",
    "\n",
    "#Partioning data and identifying relationships between clusters\n",
    "sc.tl.paga(adata)\n",
    "sc.pl.paga(adata)\n",
    "\n",
    "#Data visualization\n",
    "sc.tl.umap(adata)\n",
    "\n",
    "#Giving colour codes for better visulauization based on genes\n",
    "sc.pl.umap(adata, color=[\"CST3\", \"NKG7\", \"PPBP\"])\n",
    "\n",
    "#For raw data which is logarithmized and normalized but uncorrected\n",
    "sc.pl.umap(adata, color=[\"CST3\", \"NKG7\", \"PPBP\"], use_raw=False)"
   ]
  },
  {
   "cell_type": "code",
   "execution_count": null,
   "metadata": {},
   "outputs": [],
   "source": [
    "##CLUSTERING NEIGHBORHOOD GRAPH#\n",
    "\n",
    "#Recommendded method Leiden graph-clustering method\n",
    "sc.tl.leiden(\n",
    "    adata,\n",
    "    resolution=0.9,\n",
    "    random_state=0,\n",
    "    n_iterations=2,\n",
    "    directed=False,\n",
    ")\n",
    "\n",
    "sc.pl.umap(adata, color=[\"leiden\"])\n",
    "\n",
    "#To see the cluster labels\n",
    "adata.obs['leiden']"
   ]
  },
  {
   "cell_type": "code",
   "execution_count": null,
   "metadata": {},
   "outputs": [],
   "source": [
    "#Saving file\n",
    "adata.write(results_file)"
   ]
  },
  {
   "cell_type": "code",
   "execution_count": null,
   "metadata": {},
   "outputs": [],
   "source": [
    "#FINDING MARKER GENES#\n",
    "\n",
    "#Ranking genes using t-test\n",
    "sc.tl.rank_genes_groups(adata, \"leiden\", method=\"t-test\")\n",
    "\n",
    "#Plotting \n",
    "sc.pl.rank_genes_groups(adata, n_genes=25, sharey=False)"
   ]
  },
  {
   "cell_type": "code",
   "execution_count": null,
   "metadata": {},
   "outputs": [],
   "source": [
    "#Plotting \n",
    "sc.pl.rank_genes_groups(adata)"
   ]
  },
  {
   "cell_type": "code",
   "execution_count": null,
   "metadata": {},
   "outputs": [],
   "source": [
    "#Ranking genes using wilcoxon method\n",
    "sc.tl.rank_genes_groups(adata, \"leiden\", method=\"wilcoxon\")\n",
    "\n",
    "#Plotting \n",
    "sc.pl.rank_genes_groups(adata, n_genes=25, sharey=False)\n",
    "\n",
    "#Saving data\n",
    "adata.write(results_file)"
   ]
  },
  {
   "cell_type": "code",
   "execution_count": null,
   "metadata": {},
   "outputs": [],
   "source": [
    "#Using logistic regression\n",
    "sc.tl.rank_genes_groups(adata, \"leiden\", method=\"logreg\", max_iter=1000)\n",
    "sc.pl.rank_genes_groups(adata, n_genes=25, sharey=False)"
   ]
  },
  {
   "cell_type": "code",
   "execution_count": null,
   "metadata": {},
   "outputs": [],
   "source": [
    "#To get list of gene names across clusters\n",
    "pd.DataFrame(adata.uns[\"rank_genes_groups\"][\"names\"])\n",
    "\n",
    "#Can add .head(10) at the end to give output of only 10 hits"
   ]
  },
  {
   "cell_type": "code",
   "execution_count": null,
   "metadata": {},
   "outputs": [],
   "source": [
    "#Getting table with scores and group\n",
    "adata = sc.read(results_file)\n",
    "result = adata.uns[\"rank_genes_groups\"]\n",
    "groups = result[\"names\"].dtype.names\n",
    "pd.DataFrame(\n",
    "    {\n",
    "        group + \"_\" + key[:1]: result[key][group]\n",
    "        for group in groups\n",
    "        for key in [\"names\", \"pvals\"]\n",
    "    }\n",
    ").head(5)\n",
    "#low p-value indicates that the gene is likely differentially expressed in that cluster compared to others"
   ]
  },
  {
   "cell_type": "code",
   "execution_count": null,
   "metadata": {},
   "outputs": [],
   "source": [
    "#Comparing between clusters and ranking genes\n",
    "sc.tl.rank_genes_groups(adata, \"leiden\", groups=[\"0\"], reference=\"1\", method=\"wilcoxon\")\n",
    "sc.pl.rank_genes_groups(adata, groups=[\"0\"], n_genes=20)"
   ]
  },
  {
   "cell_type": "code",
   "execution_count": null,
   "metadata": {},
   "outputs": [],
   "source": [
    "#More detailed view of cluster if required\n",
    "sc.pl.rank_genes_groups_violin(adata, groups=\"0\", n_genes=8)"
   ]
  },
  {
   "cell_type": "code",
   "execution_count": null,
   "metadata": {},
   "outputs": [],
   "source": [
    "#Visualizing genes across clusters\n",
    "sc.pl.violin(adata, [\"CST3\"], groupby=\"leiden\")"
   ]
  },
  {
   "cell_type": "code",
   "execution_count": null,
   "metadata": {},
   "outputs": [],
   "source": [
    "#Visualizing gene across groups in dotplot\n",
    "sc.pl.dotplot(adata, 'CST3', groupby=\"leiden\")\n",
    "\n",
    "#Visualizing gene across groups in violin plot\n",
    "sc.pl.stacked_violin(adata, 'CST3', groupby=\"leiden\");"
   ]
  },
  {
   "cell_type": "code",
   "execution_count": null,
   "metadata": {},
   "outputs": [],
   "source": [
    "##SAVING FILE\n",
    "adata.write(results_file, compression=\"gzip\")"
   ]
  }
 ],
 "metadata": {
  "kernelspec": {
   "display_name": "scanpy",
   "language": "python",
   "name": "python3"
  },
  "language_info": {
   "codemirror_mode": {
    "name": "ipython",
    "version": 3
   },
   "file_extension": ".py",
   "mimetype": "text/x-python",
   "name": "python",
   "nbconvert_exporter": "python",
   "pygments_lexer": "ipython3",
   "version": "3.12.2"
  }
 },
 "nbformat": 4,
 "nbformat_minor": 2
}
