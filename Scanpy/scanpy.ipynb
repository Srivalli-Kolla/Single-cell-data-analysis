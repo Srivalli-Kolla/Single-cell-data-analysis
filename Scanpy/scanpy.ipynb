{
 "cells": [
  {
   "cell_type": "code",
   "execution_count": null,
   "metadata": {},
   "outputs": [],
   "source": [
    "#All the following script and comments have been made in accordance to single cell  data ##\n",
    "\n",
    "#Importing packages # Make sure that you activate correct environment (conda activate scanpy)\n",
    "import pandas as pd\n",
    "import scanpy as sc\n",
    "#import anndata as ad\n",
    "#import louvain\n",
    "#import leidenalg\n",
    "\n",
    "sc.settings.verbosity = 3  # verbosity: errors (0), warnings (1), info (2), hints (3)\n",
    "sc.logging.print_header()\n",
    "sc.settings.set_figure_params(dpi=80, facecolor=\"white\")\n",
    "\n",
    "#writing output file\n",
    "results_file = \"/Users/srivalli/Documents/GitHub/Single-cell-data-analysis/Scanpy/output/heart_immune_scanpy.h5ad\""
   ]
  },
  {
   "cell_type": "code",
   "execution_count": null,
   "metadata": {},
   "outputs": [],
   "source": [
    "#Reading the h5ad file\n",
    "adata = sc.read_h5ad('/Users/srivalli/Desktop/Heart/hca_heart_immune_download.h5ad')\n",
    "adata"
   ]
  },
  {
   "cell_type": "code",
   "execution_count": null,
   "metadata": {},
   "outputs": [],
   "source": [
    "#PREPROCESSING#\n",
    "\n",
    "#Viewing genes that contributes the largest portion in a cell\n",
    "sc.pl.highest_expr_genes(adata, n_top=20)\n",
    "\n",
    "#Filtering genes and cells\n",
    "sc.pp.filter_cells(adata, min_genes=200)\n",
    "sc.pp.filter_genes(adata, min_cells=3)\n",
    "\n",
    "#Above filtering considers only cells having min 200 genes as a primary criteria and filters the genes which are found in minimum of 3 cells"
   ]
  },
  {
   "cell_type": "code",
   "execution_count": null,
   "metadata": {},
   "outputs": [],
   "source": [
    "# Selecting the group of mitochondrial genes -- GENES OF INTEREST\n",
    "adata.var[\"mt\"] = adata.var_names.str.startswith(\"MT-\")\n",
    "adata.var\n",
    "\n",
    "#Calculating desired metrics \n",
    "sc.pp.calculate_qc_metrics(adata, qc_vars=[\"mt\"], percent_top=None, log1p=False, inplace = True)"
   ]
  },
  {
   "cell_type": "code",
   "execution_count": null,
   "metadata": {},
   "outputs": [],
   "source": [
    "#Graphical representation of data\n",
    "\n",
    "#Violin plots\n",
    "sc.pl.violin(adata,[\"n_genes_by_counts\", \"total_counts\", \"pct_counts_mt\"],jitter=0.4,multi_panel=True)\n",
    "\n",
    "#Scatter plots\n",
    "sc.pl.scatter(adata, x=\"total_counts\", y=\"pct_counts_mt\")\n",
    "sc.pl.scatter(adata, x=\"total_counts\", y=\"n_genes_by_counts\")"
   ]
  },
  {
   "cell_type": "code",
   "execution_count": null,
   "metadata": {},
   "outputs": [],
   "source": [
    "# If we want to slice/Filter the data\n",
    "\n",
    "#Based on number of genes\n",
    "adata = adata[adata.obs.n_genes_by_counts < 2500, :]\n",
    "\n",
    "#Based on percentage of mitochondrial genes\n",
    "adata = adata[adata.obs.pct_counts_mt < 5, :].copy()\n",
    "\n",
    "#Normalizing data matrix to have 10,000 reads per cell to make counts comparable\n",
    "sc.pp.normalize_total(adata, target_sum=1e4)\n",
    "\n",
    "#Logarithmization of data\n",
    "sc.pp.log1p(adata)"
   ]
  },
  {
   "cell_type": "code",
   "execution_count": null,
   "metadata": {},
   "outputs": [],
   "source": [
    "#Identifying high variable genes\n",
    "sc.pp.highly_variable_genes(adata, min_mean=0.0125, max_mean=3, min_disp=0.5)\n",
    "sc.pl.highly_variable_genes(adata)"
   ]
  },
  {
   "cell_type": "code",
   "execution_count": null,
   "metadata": {},
   "outputs": [],
   "source": [
    "#Saving data as a backup so we wont loose it later\n",
    "#Saving normalized and logarithmic data\n",
    "\n",
    "adata.raw = adata"
   ]
  },
  {
   "cell_type": "code",
   "execution_count": null,
   "metadata": {},
   "outputs": [],
   "source": [
    "adata"
   ]
  },
  {
   "cell_type": "code",
   "execution_count": null,
   "metadata": {},
   "outputs": [],
   "source": [
    "#Scaling data\n",
    "#Filtering or selecting columns (genes) based on the highly variable genes identified\n",
    "adata = adata[:, adata.var.highly_variable]\n",
    "\n",
    "#Regression of data i.e., Removing batch effects based on criteria of interest\n",
    "sc.pp.regress_out(adata, [\"total_counts\", \"pct_counts_mt\"])\n",
    "\n",
    "#Scaling gene expression to make it comparable across cells\n",
    "sc.pp.scale(adata, max_value=10)"
   ]
  },
  {
   "cell_type": "code",
   "execution_count": null,
   "metadata": {},
   "outputs": [],
   "source": [
    "adata"
   ]
  },
  {
   "cell_type": "code",
   "execution_count": null,
   "metadata": {},
   "outputs": [],
   "source": [
    "##PRINCIPAL COMPONENT ANALYSIS\n",
    "\n",
    "#Reducing dimensions\n",
    "sc.tl.pca(adata, svd_solver=\"arpack\")\n",
    "\n",
    "#Scatter plot for PCA componentsa\n",
    "\n",
    "sc.pl.pca(adata, color= \"CST3\")"
   ]
  },
  {
   "cell_type": "code",
   "execution_count": null,
   "metadata": {},
   "outputs": [],
   "source": [
    "#Number of PCs to be considered\n",
    "sc.tl.tsne(adata)\n",
    "adata"
   ]
  },
  {
   "cell_type": "code",
   "execution_count": null,
   "metadata": {},
   "outputs": [],
   "source": [
    "#Estimates of PCA to be considered\n",
    "sc.pl.pca_variance_ratio(adata, log=True)\n",
    "\n",
    "#Saving results\n",
    "adata.write(results_file)\n",
    "adata"
   ]
  },
  {
   "cell_type": "code",
   "execution_count": null,
   "metadata": {},
   "outputs": [],
   "source": [
    "#COMPUTING NEIGHBOUIRHOOD GRAPH\n",
    "sc.pp.neighbors(adata)"
   ]
  },
  {
   "cell_type": "code",
   "execution_count": null,
   "metadata": {},
   "outputs": [],
   "source": [
    "#EMBERDDING THE NEIGHBOURHODD GRAPH\n",
    "sc.tl.louvain(adata)\n",
    "sc.tl.paga(adata)\n",
    "sc.tl.umap(adata)\n",
    "sc.tl.umap(adata)\n",
    "\n",
    "#Giving colour codes for better visulauization\n",
    "sc.pl.umap(adata, color=[\"CST3\", \"NKG7\", \"PPBP\"])\n",
    "\n",
    "#For raw data which is logarithmized and nortmalizedd \n",
    "sc.pl.umap(adata, color=[\"CST3\", \"NKG7\", \"PPBP\"], use_raw=False)"
   ]
  },
  {
   "cell_type": "code",
   "execution_count": null,
   "metadata": {},
   "outputs": [],
   "source": [
    "#Clustering the neighborhood graph\n",
    "#Recommendded method Leiden graph-clustering method\n",
    "sc.tl.leiden(\n",
    "    adata,\n",
    "    resolution=0.9,\n",
    "    random_state=0,\n",
    "    n_iterations=2,\n",
    "    directed=False,\n",
    ")\n",
    "\n",
    "sc.pl.umap(adata, color=[\"leiden\"])"
   ]
  },
  {
   "cell_type": "code",
   "execution_count": null,
   "metadata": {},
   "outputs": [],
   "source": [
    "#Saving file\n",
    "adata.write(results_file)"
   ]
  },
  {
   "cell_type": "code",
   "execution_count": null,
   "metadata": {},
   "outputs": [],
   "source": [
    "#FINDING MARKER GENES\n",
    "\n",
    "#Using t-test\n",
    "sc.tl.rank_genes_groups(adata, \"leiden\", method=\"t-test\")\n",
    "sc.pl.rank_genes_groups(adata, n_genes=25, sharey=False)"
   ]
  },
  {
   "cell_type": "code",
   "execution_count": null,
   "metadata": {},
   "outputs": [],
   "source": [
    "#Using wilcoxon method\n",
    "\n",
    "sc.tl.rank_genes_groups(adata, \"leiden\", method=\"wilcoxon\")\n",
    "sc.pl.rank_genes_groups(adata, n_genes=25, sharey=False)\n",
    "\n",
    "adata.write(results_file)"
   ]
  },
  {
   "cell_type": "code",
   "execution_count": null,
   "metadata": {},
   "outputs": [],
   "source": [
    "#Using logistic regression\n",
    "sc.tl.rank_genes_groups(adata, \"leiden\", method=\"logreg\", max_iter=1000)\n",
    "sc.pl.rank_genes_groups(adata, n_genes=25, sharey=False)"
   ]
  },
  {
   "cell_type": "code",
   "execution_count": null,
   "metadata": {},
   "outputs": [],
   "source": [
    "##Marking genes for later use\n",
    "\n",
    "marker_genes = [\n",
    "    *[\"IL7R\", \"CD79A\", \"MS4A1\", \"CD8A\", \"CD8B\", \"LYZ\", \"CD14\"],\n",
    "    *[\"LGALS3\", \"S100A8\", \"GNLY\", \"NKG7\", \"KLRB1\"],\n",
    "    *[\"FCGR3A\", \"MS4A7\", \"FCER1A\", \"CST3\", \"PPBP\"],\n",
    "]"
   ]
  },
  {
   "cell_type": "code",
   "execution_count": null,
   "metadata": {},
   "outputs": [],
   "source": [
    "#reloading  data and looking at top genes in dataframe\n",
    "\n",
    "adata = sc.read(results_file)\n",
    "adata\n",
    "pd.DataFrame(adata.uns[\"rank_genes_groups\"][\"names\"]).head(5)"
   ]
  },
  {
   "cell_type": "code",
   "execution_count": null,
   "metadata": {},
   "outputs": [],
   "source": []
  }
 ],
 "metadata": {
  "kernelspec": {
   "display_name": "scanpy",
   "language": "python",
   "name": "python3"
  },
  "language_info": {
   "codemirror_mode": {
    "name": "ipython",
    "version": 3
   },
   "file_extension": ".py",
   "mimetype": "text/x-python",
   "name": "python",
   "nbconvert_exporter": "python",
   "pygments_lexer": "ipython3",
   "version": "3.12.2"
  }
 },
 "nbformat": 4,
 "nbformat_minor": 2
}
