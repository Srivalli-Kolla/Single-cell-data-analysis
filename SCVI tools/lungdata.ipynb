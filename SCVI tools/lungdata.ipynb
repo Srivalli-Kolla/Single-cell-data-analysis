{
 "cells": [
  {
   "cell_type": "markdown",
   "metadata": {},
   "source": [
    "ATLAS LEVEL INTEGRATION OF LUNG DATA"
   ]
  },
  {
   "cell_type": "code",
   "execution_count": 1,
   "metadata": {},
   "outputs": [
    {
     "name": "stderr",
     "output_type": "stream",
     "text": [
      "/Users/srivalli/conda/envs/scvi-env/lib/python3.9/site-packages/tqdm/auto.py:21: TqdmWarning: IProgress not found. Please update jupyter and ipywidgets. See https://ipywidgets.readthedocs.io/en/stable/user_install.html\n",
      "  from .autonotebook import tqdm as notebook_tqdm\n"
     ]
    }
   ],
   "source": [
    "#All the following script and comments have been made in accordance to single cell  data ##\n",
    "\n",
    "#Importing packages # Make sure that you activate correct environment (conda activate scvi-env)\n",
    "import os\n",
    "import tempfile\n",
    "import scanpy as sc\n",
    "import scvi\n",
    "import seaborn as sns\n",
    "import torch\n",
    "from rich import print\n",
    "from scib_metrics.benchmark import Benchmarker\n",
    "\n",
    "output = '/Users/srivalli/Documents/GitHub/Single-cell-data-analysis/SCVI tools/output/lung data'\n",
    "\n",
    "save_dir =  '/Users/srivalli/Desktop/Heart'\n"
   ]
  },
  {
   "cell_type": "code",
   "execution_count": 2,
   "metadata": {},
   "outputs": [
    {
     "name": "stderr",
     "output_type": "stream",
     "text": [
      "/Users/srivalli/conda/envs/scvi-env/lib/python3.9/site-packages/anndata/__init__.py:51: FutureWarning: `anndata.read` is deprecated, use `anndata.read_h5ad` instead. `ad.read` will be removed in mid 2024.\n",
      "  warnings.warn(\n"
     ]
    },
    {
     "data": {
      "text/plain": [
       "AnnData object with n_obs × n_vars = 32472 × 15148\n",
       "    obs: 'dataset', 'location', 'nGene', 'nUMI', 'patientGroup', 'percent.mito', 'protocol', 'sanger_type', 'size_factors', 'sampling_method', 'batch', 'cell_type', 'donor'\n",
       "    layers: 'counts'"
      ]
     },
     "execution_count": 2,
     "metadata": {},
     "output_type": "execute_result"
    }
   ],
   "source": [
    "#Data loading and reading\n",
    "\n",
    "adata_path = os.path.join(save_dir, \"lung_atlas.h5ad\")\n",
    "\n",
    "adata = sc.read(\n",
    "    adata_path,\n",
    "    backup_url=\"https://figshare.com/ndownloader/files/24539942\",\n",
    ")\n",
    "adata"
   ]
  },
  {
   "cell_type": "code",
   "execution_count": 3,
   "metadata": {},
   "outputs": [
    {
     "name": "stderr",
     "output_type": "stream",
     "text": [
      "/Users/srivalli/conda/envs/scvi-env/lib/python3.9/site-packages/scanpy/preprocessing/_highly_variable_genes.py:64: UserWarning: `flavor='seurat_v3'` expects raw count data, but non-integers were found.\n",
      "  warnings.warn(\n"
     ]
    }
   ],
   "source": [
    "#DATA PREPROCESSING#\n",
    "\n",
    "#Data backup\n",
    "adata.raw = adata  \n",
    "\n",
    "#Selecting high variable genes\n",
    "sc.pp.highly_variable_genes(\n",
    "    adata,\n",
    "    flavor=\"seurat_v3\",\n",
    "    n_top_genes=2000,\n",
    "    layer=\"counts\",\n",
    "    batch_key=\"batch\",\n",
    "    subset=True,\n",
    ")"
   ]
  },
  {
   "cell_type": "code",
   "execution_count": 4,
   "metadata": {},
   "outputs": [
    {
     "name": "stderr",
     "output_type": "stream",
     "text": [
      "/Users/srivalli/conda/envs/scvi-env/lib/python3.9/abc.py:119: FutureWarning: SparseDataset is deprecated and will be removed in late 2024. It has been replaced by the public classes CSRDataset and CSCDataset.\n",
      "\n",
      "For instance checks, use `isinstance(X, (anndata.experimental.CSRDataset, anndata.experimental.CSCDataset))` instead.\n",
      "\n",
      "For creation, use `anndata.experimental.sparse_dataset(X)` instead.\n",
      "\n",
      "  return _abc_instancecheck(cls, instance)\n",
      "/Users/srivalli/conda/envs/scvi-env/lib/python3.9/site-packages/scvi/data/fields/_base_field.py:64: UserWarning: adata.layers[counts] does not contain unnormalized count data. Are you sure this is what you want?\n",
      "  self.validate_field(adata)\n",
      "GPU available: True (mps), used: False\n",
      "TPU available: False, using: 0 TPU cores\n",
      "IPU available: False, using: 0 IPUs\n",
      "HPU available: False, using: 0 HPUs\n",
      "/Users/srivalli/conda/envs/scvi-env/lib/python3.9/site-packages/lightning/pytorch/trainer/setup.py:187: GPU available but not used. You can set it by doing `Trainer(accelerator='gpu')`.\n",
      "/Users/srivalli/conda/envs/scvi-env/lib/python3.9/site-packages/lightning/pytorch/trainer/connectors/data_connector.py:441: The 'train_dataloader' does not have many workers which may be a bottleneck. Consider increasing the value of the `num_workers` argument` to `num_workers=7` in the `DataLoader` to improve performance.\n"
     ]
    },
    {
     "name": "stdout",
     "output_type": "stream",
     "text": [
      "Epoch 246/246: 100%|██████████| 246/246 [12:46<00:00,  3.03s/it, v_num=1, train_loss_step=519, train_loss_epoch=552]"
     ]
    },
    {
     "name": "stderr",
     "output_type": "stream",
     "text": [
      "`Trainer.fit` stopped: `max_epochs=246` reached.\n"
     ]
    },
    {
     "name": "stdout",
     "output_type": "stream",
     "text": [
      "Epoch 246/246: 100%|██████████| 246/246 [12:46<00:00,  3.11s/it, v_num=1, train_loss_step=519, train_loss_epoch=552]\n"
     ]
    }
   ],
   "source": [
    "#INTEGRATION WITH SCVII#  Usually when annotated data isnt available or unable to help\n",
    "\n",
    "#Data labelling by finding common axes in data\n",
    "\n",
    "#Data setup according to SCVI model\n",
    "scvi.model.SCVI.setup_anndata(adata, layer=\"counts\", batch_key=\"batch\")\n",
    "\n",
    "#Setting up model with data\n",
    "model = scvi.model.SCVI(adata, n_layers=2, n_latent=30, gene_likelihood=\"nb\")\n",
    "\n",
    "#Training model\n",
    "model.train()"
   ]
  },
  {
   "cell_type": "code",
   "execution_count": 5,
   "metadata": {},
   "outputs": [],
   "source": [
    "#Evaluation of latent representation\n",
    "SCVI_LATENT_KEY = \"X_scVI\"\n",
    "\n",
    "#Adding latent rep data to anndata\n",
    "adata.obsm[SCVI_LATENT_KEY] = model.get_latent_representation()"
   ]
  },
  {
   "cell_type": "code",
   "execution_count": 6,
   "metadata": {},
   "outputs": [
    {
     "name": "stderr",
     "output_type": "stream",
     "text": [
      "OMP: Info #276: omp_set_nested routine deprecated, please use omp_set_max_active_levels instead.\n"
     ]
    }
   ],
   "source": [
    "#Clustering data to view in SCVI latent space\n",
    "sc.pp.neighbors(adata, use_rep=SCVI_LATENT_KEY)\n",
    "sc.tl.leiden(adata)"
   ]
  },
  {
   "cell_type": "code",
   "execution_count": null,
   "metadata": {},
   "outputs": [],
   "source": [
    "#Data visualization \n",
    "\n",
    "#Alternate to UMAP\n",
    "SCVI_MDE_KEY = \"X_scVI_MDE\"\n",
    "\n",
    "#Data preperation\n",
    "adata.obsm[SCVI_MDE_KEY] = scvi.model.utils.mde(adata.obsm[SCVI_LATENT_KEY])\n",
    "\n",
    "#Plotting\n",
    "sc.pl.embedding(\n",
    "    adata,\n",
    "    basis=SCVI_MDE_KEY,\n",
    "    color=[\"batch\", \"leiden\"],\n",
    "    frameon=False,\n",
    "    ncols=1,\n",
    ")"
   ]
  },
  {
   "cell_type": "code",
   "execution_count": null,
   "metadata": {},
   "outputs": [],
   "source": [
    "adata.obs"
   ]
  },
  {
   "cell_type": "code",
   "execution_count": null,
   "metadata": {},
   "outputs": [],
   "source": [
    "#Data visualization based on annotated data\n",
    "sc.pl.embedding(adata, basis=SCVI_MDE_KEY, color=[\"cell_type\"], frameon=False, ncols=1)"
   ]
  },
  {
   "cell_type": "code",
   "execution_count": null,
   "metadata": {},
   "outputs": [],
   "source": [
    "#INTEGRATION WITH scANVI # Usually ehen annotated data is available giving whole information\n",
    "\n",
    "#We specify keys for both interested obs and info of unlablled data also\n",
    "scanvi_model = scvi.model.SCANVI.from_scvi_model(\n",
    "    model,\n",
    "    adata=adata,\n",
    "    labels_key=\"cell_type\",\n",
    "    unlabeled_category=\"Unknown\",\n",
    ")"
   ]
  },
  {
   "cell_type": "code",
   "execution_count": null,
   "metadata": {},
   "outputs": [],
   "source": [
    "#Model training\n",
    "scanvi_model.train(max_epochs=20, n_samples_per_label=100)"
   ]
  },
  {
   "cell_type": "code",
   "execution_count": null,
   "metadata": {},
   "outputs": [],
   "source": [
    "#Data visualization \n",
    "\n",
    "#Alternate to UMAP\n",
    "SCANVI_LATENT_KEY = \"X_scANVI\"\n",
    "adata.obsm[SCANVI_LATENT_KEY] = scanvi_model.get_latent_representation(adata)\n",
    "\n",
    "#Plotting\n",
    "sc.pl.embedding(\n",
    "    adata, basis=SCANVI_MDE_KEY, color=[\"cell_type\"], ncols=1, frameon=False\n",
    ")"
   ]
  },
  {
   "cell_type": "code",
   "execution_count": null,
   "metadata": {},
   "outputs": [],
   "source": [
    "#Data viewing for additional components added\n",
    "adata"
   ]
  },
  {
   "cell_type": "code",
   "execution_count": null,
   "metadata": {},
   "outputs": [],
   "source": [
    "#COMPUTING INTEGRATION METRICS#\n",
    "\n",
    "#Selecting metrics for plotting\n",
    "bm = Benchmarker(\n",
    "    adata,\n",
    "    batch_key=\"batch\",\n",
    "    label_key=\"cell_type\",\n",
    "    embedding_obsm_keys=[\"X_pca\", SCVI_LATENT_KEY, SCANVI_LATENT_KEY],\n",
    "    n_jobs=-1,\n",
    ")\n",
    "\n",
    "#Viewing metrics\n",
    "bm.benchmark()\n",
    "\n",
    "#Plotting results in table\n",
    "bm.plot_results_table(min_max_scale=False)\n",
    "\n",
    "#Saving results as dataframe\n",
    "df = bm.get_results(min_max_scale=False)\n",
    "print(df)\n",
    "\n",
    "#Saving as file\n",
    "df.write(output)"
   ]
  },
  {
   "cell_type": "code",
   "execution_count": null,
   "metadata": {},
   "outputs": [],
   "source": []
  }
 ],
 "metadata": {
  "kernelspec": {
   "display_name": "scvi-env",
   "language": "python",
   "name": "python3"
  },
  "language_info": {
   "codemirror_mode": {
    "name": "ipython",
    "version": 3
   },
   "file_extension": ".py",
   "mimetype": "text/x-python",
   "name": "python",
   "nbconvert_exporter": "python",
   "pygments_lexer": "ipython3",
   "version": "3.9.18"
  }
 },
 "nbformat": 4,
 "nbformat_minor": 2
}
