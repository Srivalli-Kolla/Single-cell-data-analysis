{
 "cells": [
  {
   "cell_type": "code",
   "execution_count": 2,
   "metadata": {},
   "outputs": [
    {
     "name": "stderr",
     "output_type": "stream",
     "text": [
      "/Users/srivalli/conda/envs/scvi-env/lib/python3.9/site-packages/tqdm/auto.py:21: TqdmWarning: IProgress not found. Please update jupyter and ipywidgets. See https://ipywidgets.readthedocs.io/en/stable/user_install.html\n",
      "  from .autonotebook import tqdm as notebook_tqdm\n",
      "Seed set to 0\n"
     ]
    }
   ],
   "source": [
    "#All the following script and comments have been made in accordance to single cell  data ##\n",
    "\n",
    "#Importing packages # Make sure that you activate correct environment (conda activate scvi-env)\n",
    "import os\n",
    "import tempfile\n",
    "import scanpy as sc\n",
    "import scvi\n",
    "import seaborn as sns\n",
    "import torch\n",
    "scvi.settings.seed = 0\n",
    "\n",
    "sc.set_figure_params(figsize=(6, 6), frameon=False)\n",
    "sns.set_theme()\n",
    "torch.set_float32_matmul_precision(\"high\")\n",
    "save_dir = tempfile.TemporaryDirectory()\n",
    "\n",
    "%config InlineBackend.print_figure_kwargs={\"facecolor\": \"w\"}\n",
    "%config InlineBackend.figure_format=\"retina\""
   ]
  },
  {
   "cell_type": "code",
   "execution_count": 6,
   "metadata": {},
   "outputs": [],
   "source": [
    "#LOADING AND DATA PREPERATION#\n",
    "adata = sc.read_h5ad('/Users/srivalli/Desktop/Heart/hca_heart_immune_download.h5ad')\n",
    "adata\n",
    "\n",
    "#Data filtration\n",
    "sc.pp.filter_genes(adata, min_counts=3)\n",
    "\n",
    "#Data normalizartion by adding counts and storing in raw for backup\n",
    "adata.layers[\"counts\"] = adata.X.copy()  \n",
    "sc.pp.normalize_total(adata, target_sum=1e4) #10000 genes per cell\n",
    "sc.pp.log1p(adata)\n",
    "adata.raw = adata \n"
   ]
  },
  {
   "cell_type": "code",
   "execution_count": null,
   "metadata": {},
   "outputs": [],
   "source": [
    "#Feature selection i.e., Highly Variable Genes selection\n",
    "sc.pp.highly_variable_genes(\n",
    "    adata,\n",
    "    n_top_genes=1200,\n",
    "    subset=True,\n",
    "    layer=\"counts\",\n",
    "    flavor=\"seurat_v3\",\n",
    "    batch_key=\"cell_source\",\n",
    ")"
   ]
  },
  {
   "cell_type": "code",
   "execution_count": 15,
   "metadata": {},
   "outputs": [],
   "source": [
    "#Annotating data \n",
    "\n",
    "scvi.model.SCVI.setup_anndata(\n",
    "    adata,\n",
    "    layer=\"counts\",\n",
    "    categorical_covariate_keys=[\"cell_source\", \"donor\"],\n",
    "    continuous_covariate_keys=[\"percent_mito\", \"percent_ribo\"],\n",
    ")"
   ]
  },
  {
   "cell_type": "code",
   "execution_count": 16,
   "metadata": {},
   "outputs": [
    {
     "name": "stderr",
     "output_type": "stream",
     "text": [
      "GPU available: True (mps), used: False\n",
      "TPU available: False, using: 0 TPU cores\n",
      "IPU available: False, using: 0 IPUs\n",
      "HPU available: False, using: 0 HPUs\n",
      "/Users/srivalli/conda/envs/scvi-env/lib/python3.9/site-packages/lightning/pytorch/trainer/setup.py:187: GPU available but not used. You can set it by doing `Trainer(accelerator='gpu')`.\n",
      "/Users/srivalli/conda/envs/scvi-env/lib/python3.9/site-packages/lightning/pytorch/trainer/connectors/data_connector.py:441: The 'train_dataloader' does not have many workers which may be a bottleneck. Consider increasing the value of the `num_workers` argument` to `num_workers=7` in the `DataLoader` to improve performance.\n"
     ]
    },
    {
     "name": "stdout",
     "output_type": "stream",
     "text": [
      "Epoch 38/196:  19%|█▉        | 37/196 [39:55<3:05:34, 70.03s/it, v_num=1, train_loss_step=3.76e+3, train_loss_epoch=3.3e+3] "
     ]
    }
   ],
   "source": [
    "##CREATING AND TRAINING MODEL##\n",
    "\n",
    "#Creating model\n",
    "model = scvi.model.SCVI(adata)\n",
    "model\n",
    "\n",
    "#Training\n",
    "model.train()\n"
   ]
  },
  {
   "cell_type": "code",
   "execution_count": 13,
   "metadata": {},
   "outputs": [
    {
     "name": "stdout",
     "output_type": "stream",
     "text": [
      "\u001b[34mINFO    \u001b[0m File \u001b[35m/var/folders/m6/j4jl72rj0pl7_bbwngtxl9ym0000gn/T/tmpqgz1os6n/scvi_model/\u001b[0m\u001b[95mmodel.pt\u001b[0m already downloaded  \n"
     ]
    }
   ],
   "source": [
    "#Saving model\n",
    "model_dir = os.path.join(save_dir.name, \"scvi_model\")\n",
    "model.save(model_dir, overwrite=True)\n",
    "\n",
    "#Loading model\n",
    "model = scvi.model.SCVI.load(model_dir, adata=adata)"
   ]
  },
  {
   "cell_type": "code",
   "execution_count": 14,
   "metadata": {},
   "outputs": [
    {
     "ename": "RuntimeError",
     "evalue": "Trying to query inferred values from an untrained model. Please train the model first.",
     "output_type": "error",
     "traceback": [
      "\u001b[0;31m---------------------------------------------------------------------------\u001b[0m",
      "\u001b[0;31mRuntimeError\u001b[0m                              Traceback (most recent call last)",
      "Cell \u001b[0;32mIn[14], line 6\u001b[0m\n\u001b[1;32m      1\u001b[0m \u001b[38;5;66;03m##OBTAINING MODEL OUTPUTS##\u001b[39;00m\n\u001b[1;32m      2\u001b[0m \n\u001b[1;32m      3\u001b[0m \u001b[38;5;66;03m#Storing outputs of scvi to anndata\u001b[39;00m\n\u001b[1;32m      4\u001b[0m SCVI_LATENT_KEY \u001b[38;5;241m=\u001b[39m \u001b[38;5;124m\"\u001b[39m\u001b[38;5;124mX_scVI\u001b[39m\u001b[38;5;124m\"\u001b[39m\n\u001b[0;32m----> 6\u001b[0m latent \u001b[38;5;241m=\u001b[39m \u001b[43mmodel\u001b[49m\u001b[38;5;241;43m.\u001b[39;49m\u001b[43mget_latent_representation\u001b[49m\u001b[43m(\u001b[49m\u001b[43m)\u001b[49m\n\u001b[1;32m      7\u001b[0m adata\u001b[38;5;241m.\u001b[39mobsm[SCVI_LATENT_KEY] \u001b[38;5;241m=\u001b[39m latent\n\u001b[1;32m      8\u001b[0m latent\u001b[38;5;241m.\u001b[39mshape\n",
      "File \u001b[0;32m~/conda/envs/scvi-env/lib/python3.9/site-packages/torch/utils/_contextlib.py:115\u001b[0m, in \u001b[0;36mcontext_decorator.<locals>.decorate_context\u001b[0;34m(*args, **kwargs)\u001b[0m\n\u001b[1;32m    112\u001b[0m \u001b[38;5;129m@functools\u001b[39m\u001b[38;5;241m.\u001b[39mwraps(func)\n\u001b[1;32m    113\u001b[0m \u001b[38;5;28;01mdef\u001b[39;00m \u001b[38;5;21mdecorate_context\u001b[39m(\u001b[38;5;241m*\u001b[39margs, \u001b[38;5;241m*\u001b[39m\u001b[38;5;241m*\u001b[39mkwargs):\n\u001b[1;32m    114\u001b[0m     \u001b[38;5;28;01mwith\u001b[39;00m ctx_factory():\n\u001b[0;32m--> 115\u001b[0m         \u001b[38;5;28;01mreturn\u001b[39;00m \u001b[43mfunc\u001b[49m\u001b[43m(\u001b[49m\u001b[38;5;241;43m*\u001b[39;49m\u001b[43margs\u001b[49m\u001b[43m,\u001b[49m\u001b[43m \u001b[49m\u001b[38;5;241;43m*\u001b[39;49m\u001b[38;5;241;43m*\u001b[39;49m\u001b[43mkwargs\u001b[49m\u001b[43m)\u001b[49m\n",
      "File \u001b[0;32m~/conda/envs/scvi-env/lib/python3.9/site-packages/scvi/model/base/_vaemixin.py:174\u001b[0m, in \u001b[0;36mVAEMixin.get_latent_representation\u001b[0;34m(self, adata, indices, give_mean, mc_samples, batch_size, return_dist)\u001b[0m\n\u001b[1;32m    136\u001b[0m \u001b[38;5;129m@torch\u001b[39m\u001b[38;5;241m.\u001b[39minference_mode()\n\u001b[1;32m    137\u001b[0m \u001b[38;5;28;01mdef\u001b[39;00m \u001b[38;5;21mget_latent_representation\u001b[39m(\n\u001b[1;32m    138\u001b[0m     \u001b[38;5;28mself\u001b[39m,\n\u001b[0;32m   (...)\u001b[0m\n\u001b[1;32m    144\u001b[0m     return_dist: \u001b[38;5;28mbool\u001b[39m \u001b[38;5;241m=\u001b[39m \u001b[38;5;28;01mFalse\u001b[39;00m,\n\u001b[1;32m    145\u001b[0m ) \u001b[38;5;241m-\u001b[39m\u001b[38;5;241m>\u001b[39m Union[np\u001b[38;5;241m.\u001b[39mndarray, \u001b[38;5;28mtuple\u001b[39m[np\u001b[38;5;241m.\u001b[39mndarray, np\u001b[38;5;241m.\u001b[39mndarray]]:\n\u001b[1;32m    146\u001b[0m \u001b[38;5;250m    \u001b[39m\u001b[38;5;124;03m\"\"\"Return the latent representation for each cell.\u001b[39;00m\n\u001b[1;32m    147\u001b[0m \n\u001b[1;32m    148\u001b[0m \u001b[38;5;124;03m    This is typically denoted as :math:`z_n`.\u001b[39;00m\n\u001b[0;32m   (...)\u001b[0m\n\u001b[1;32m    172\u001b[0m \u001b[38;5;124;03m    Low-dimensional representation for each cell or a tuple containing its mean and variance.\u001b[39;00m\n\u001b[1;32m    173\u001b[0m \u001b[38;5;124;03m    \"\"\"\u001b[39;00m\n\u001b[0;32m--> 174\u001b[0m     \u001b[38;5;28;43mself\u001b[39;49m\u001b[38;5;241;43m.\u001b[39;49m\u001b[43m_check_if_trained\u001b[49m\u001b[43m(\u001b[49m\u001b[43mwarn\u001b[49m\u001b[38;5;241;43m=\u001b[39;49m\u001b[38;5;28;43;01mFalse\u001b[39;49;00m\u001b[43m)\u001b[49m\n\u001b[1;32m    176\u001b[0m     adata \u001b[38;5;241m=\u001b[39m \u001b[38;5;28mself\u001b[39m\u001b[38;5;241m.\u001b[39m_validate_anndata(adata)\n\u001b[1;32m    177\u001b[0m     scdl \u001b[38;5;241m=\u001b[39m \u001b[38;5;28mself\u001b[39m\u001b[38;5;241m.\u001b[39m_make_data_loader(adata\u001b[38;5;241m=\u001b[39madata, indices\u001b[38;5;241m=\u001b[39mindices, batch_size\u001b[38;5;241m=\u001b[39mbatch_size)\n",
      "File \u001b[0;32m~/conda/envs/scvi-env/lib/python3.9/site-packages/scvi/model/base/_base_model.py:467\u001b[0m, in \u001b[0;36mBaseModelClass._check_if_trained\u001b[0;34m(self, warn, message)\u001b[0m\n\u001b[1;32m    465\u001b[0m     warnings\u001b[38;5;241m.\u001b[39mwarn(message, \u001b[38;5;167;01mUserWarning\u001b[39;00m, stacklevel\u001b[38;5;241m=\u001b[39msettings\u001b[38;5;241m.\u001b[39mwarnings_stacklevel)\n\u001b[1;32m    466\u001b[0m \u001b[38;5;28;01melse\u001b[39;00m:\n\u001b[0;32m--> 467\u001b[0m     \u001b[38;5;28;01mraise\u001b[39;00m \u001b[38;5;167;01mRuntimeError\u001b[39;00m(message)\n",
      "\u001b[0;31mRuntimeError\u001b[0m: Trying to query inferred values from an untrained model. Please train the model first."
     ]
    }
   ],
   "source": [
    "##OBTAINING MODEL OUTPUTS##\n",
    "\n",
    "#Storing outputs of scvi to anndata\n",
    "SCVI_LATENT_KEY = \"X_scVI\"\n",
    "\n",
    "latent = model.get_latent_representation()\n",
    "adata.obsm[SCVI_LATENT_KEY] = latent\n",
    "latent.shape"
   ]
  },
  {
   "cell_type": "code",
   "execution_count": null,
   "metadata": {},
   "outputs": [],
   "source": [
    "#Subsetting data based on celltype\n",
    "adata_subset = adata[adata.obs.cell_type == \"Fibroblast\"]\n",
    "latent_subset = model.get_latent_representation(adata_subset)\n",
    "latent.shape"
   ]
  },
  {
   "cell_type": "code",
   "execution_count": null,
   "metadata": {},
   "outputs": [],
   "source": [
    "#Obtaining normalized expression values\n",
    "denoised = model.get_normalized_expression(adata_subset, library_size=1e4)\n",
    "denoised.iloc[:5, :5]\n",
    "\n",
    "#Storing back normalized values back to anndata\n",
    "SCVI_NORMALIZED_KEY = \"scvi_normalized\"\n",
    "adata.layers[SCVI_NORMALIZED_KEY] = model.get_normalized_expression(library_size=10e4)"
   ]
  },
  {
   "cell_type": "code",
   "execution_count": null,
   "metadata": {},
   "outputs": [],
   "source": [
    "##INTEROPERABOILITY WITH SCANPY##\n",
    "\n",
    "#Visualization without batch correction\n",
    "\n",
    "# Dimensionality reduction and UMAP generation\n",
    "sc.tl.pca(adata)\n",
    "sc.pp.neighbors(adata, n_pcs=30, n_neighbors=20)\n",
    "sc.tl.umap(adata, min_dist=0.3)\n",
    "\n",
    "#Only cell type\n",
    "sc.pl.umap(\n",
    "    adata,\n",
    "    color=[\"cell_type\"],\n",
    "    frameon=False,\n",
    ")\n",
    "\n",
    "#Mapping based on cell source and donor\n",
    "sc.pl.umap(\n",
    "    adata,\n",
    "    color=[\"donor\", \"cell_source\"],\n",
    "    ncols=2,\n",
    "    frameon=False,\n",
    ")\n"
   ]
  },
  {
   "cell_type": "code",
   "execution_count": null,
   "metadata": {},
   "outputs": [],
   "source": [
    "#Visualization with batch correction\n",
    "\n",
    "# Using scVI latent space for UMAP generation\n",
    "sc.pp.neighbors(adata, use_rep=SCVI_LATENT_KEY)\n",
    "sc.tl.umap(adata, min_dist=0.3)\n",
    "\n",
    "#Only cell type\n",
    "sc.pl.umap(\n",
    "    adata,\n",
    "    color=[\"cell_type\"],\n",
    "    frameon=False,\n",
    ")\n",
    "\n",
    "#Mapping based on cell source and donor\n",
    "sc.pl.umap(\n",
    "    adata,\n",
    "    color=[\"donor\", \"cell_source\"],\n",
    "    ncols=2,\n",
    "    frameon=False,\n",
    ")"
   ]
  },
  {
   "cell_type": "code",
   "execution_count": null,
   "metadata": {},
   "outputs": [],
   "source": [
    "#Clustering on the scVI latent space\n",
    "\n",
    "# Loading neighbors calculated by scvi\n",
    "SCVI_CLUSTERS_KEY = \"leiden_scVI\"\n",
    "sc.tl.leiden(adata, key_added=SCVI_CLUSTERS_KEY, resolution=0.5)\n",
    "\n",
    "sc.pl.umap(\n",
    "    adata,\n",
    "    color=[SCVI_CLUSTERS_KEY],\n",
    "    frameon=False,\n",
    ")\n"
   ]
  },
  {
   "cell_type": "code",
   "execution_count": null,
   "metadata": {},
   "outputs": [],
   "source": [
    "##DIFFERENTIAL EXPRESSION##\n",
    "\n",
    "#Getting headers  of cell types\n",
    "adata.obs.cell_type.head()\n",
    "\n",
    "#Differential expression of 1 vs 1\n",
    "de_df = model.differential_expression(\n",
    "    groupby=\"cell_type\", group1=\"Endothelial\", group2=\"Fibroblast\"\n",
    ")\n",
    "de_df.head()\n",
    "\n",
    "#Differential expression of 1 vs all\n",
    "de_df = model.differential_expression(\n",
    "    groupby=\"cell_type\",\n",
    ")\n",
    "de_df.head()"
   ]
  },
  {
   "cell_type": "code",
   "execution_count": null,
   "metadata": {},
   "outputs": [],
   "source": [
    "#Extracting top markers for each cluster\n",
    "markers = {}\n",
    "cats = adata.obs.cell_type.cat.categories\n",
    "for i, c in enumerate(cats):\n",
    "    cid = f\"{c} vs Rest\"\n",
    "    cell_type_df = de_df.loc[de_df.comparison == cid]\n",
    "\n",
    "    cell_type_df = cell_type_df[cell_type_df.lfc_mean > 0]\n",
    "\n",
    "    cell_type_df = cell_type_df[cell_type_df[\"bayes_factor\"] > 3]\n",
    "    cell_type_df = cell_type_df[cell_type_df[\"non_zeros_proportion1\"] > 0.1]\n",
    "\n",
    "    markers[c] = cell_type_df.index.tolist()[:3]\n",
    "\n",
    "#Dendogram\n",
    "sc.tl.dendrogram(adata, groupby=\"cell_type\", use_rep=\"X_scVI\")\n",
    "\n",
    "#Dot plot\n",
    "sc.pl.dotplot(\n",
    "    adata,\n",
    "    markers,\n",
    "    groupby=\"cell_type\",\n",
    "    dendrogram=True,\n",
    "    color_map=\"Blues\",\n",
    "    swap_axes=True,\n",
    "    use_raw=True,\n",
    "    standard_scale=\"var\",\n",
    ")"
   ]
  },
  {
   "cell_type": "code",
   "execution_count": null,
   "metadata": {},
   "outputs": [],
   "source": [
    "#Heatmap visualization with normalized values as layers\n",
    "sc.pl.heatmap(\n",
    "    adata,\n",
    "    markers,\n",
    "    groupby=\"cell_type\",\n",
    "    layer=\"scvi_normalized\",\n",
    "    standard_scale=\"var\",\n",
    "    dendrogram=True,\n",
    "    figsize=(8, 12),\n",
    ")"
   ]
  }
 ],
 "metadata": {
  "kernelspec": {
   "display_name": "scvi-env",
   "language": "python",
   "name": "python3"
  },
  "language_info": {
   "codemirror_mode": {
    "name": "ipython",
    "version": 3
   },
   "file_extension": ".py",
   "mimetype": "text/x-python",
   "name": "python",
   "nbconvert_exporter": "python",
   "pygments_lexer": "ipython3",
   "version": "3.9.18"
  }
 },
 "nbformat": 4,
 "nbformat_minor": 2
}
