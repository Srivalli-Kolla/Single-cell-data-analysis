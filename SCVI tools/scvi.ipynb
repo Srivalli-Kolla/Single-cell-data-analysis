{
 "cells": [
  {
   "cell_type": "code",
   "execution_count": 22,
   "metadata": {},
   "outputs": [
    {
     "ename": "ModuleNotFoundError",
     "evalue": "No module named 'scikit'",
     "output_type": "error",
     "traceback": [
      "\u001b[0;31m---------------------------------------------------------------------------\u001b[0m",
      "\u001b[0;31mModuleNotFoundError\u001b[0m                       Traceback (most recent call last)",
      "Cell \u001b[0;32mIn[22], line 10\u001b[0m\n\u001b[1;32m      8\u001b[0m \u001b[38;5;28;01mimport\u001b[39;00m \u001b[38;5;21;01mseaborn\u001b[39;00m \u001b[38;5;28;01mas\u001b[39;00m \u001b[38;5;21;01msns\u001b[39;00m\n\u001b[1;32m      9\u001b[0m \u001b[38;5;28;01mimport\u001b[39;00m \u001b[38;5;21;01mtorch\u001b[39;00m\n\u001b[0;32m---> 10\u001b[0m \u001b[38;5;28;01mimport\u001b[39;00m \u001b[38;5;21;01mscikit\u001b[39;00m\n\u001b[1;32m     12\u001b[0m scvi\u001b[38;5;241m.\u001b[39msettings\u001b[38;5;241m.\u001b[39mseed \u001b[38;5;241m=\u001b[39m \u001b[38;5;241m0\u001b[39m\n\u001b[1;32m     14\u001b[0m sc\u001b[38;5;241m.\u001b[39mset_figure_params(figsize\u001b[38;5;241m=\u001b[39m(\u001b[38;5;241m6\u001b[39m, \u001b[38;5;241m6\u001b[39m), frameon\u001b[38;5;241m=\u001b[39m\u001b[38;5;28;01mFalse\u001b[39;00m)\n",
      "\u001b[0;31mModuleNotFoundError\u001b[0m: No module named 'scikit'"
     ]
    }
   ],
   "source": [
    "#All the following script and comments have been made in accordance to single cell  data ##\n",
    "\n",
    "#Importing packages # Make sure that you activate correct environment (conda activate scvi-env)\n",
    "import os\n",
    "import tempfile\n",
    "import scanpy as sc\n",
    "import scvi\n",
    "import seaborn as sns\n",
    "import torch\n",
    "import scikit\n",
    "\n",
    "scvi.settings.seed = 0\n",
    "\n",
    "sc.set_figure_params(figsize=(6, 6), frameon=False)\n",
    "sns.set_theme()\n",
    "torch.set_float32_matmul_precision(\"high\")\n",
    "save_dir = tempfile.TemporaryDirectory()"
   ]
  },
  {
   "cell_type": "code",
   "execution_count": null,
   "metadata": {},
   "outputs": [],
   "source": [
    "#LOADING AND DATA PREPERATION#\n",
    "adata = sc.read_h5ad('/Users/srivalli/Desktop/Heart/hca_heart_immune_download.h5ad')\n",
    "adata\n",
    "\n",
    "#Data filtration\n",
    "sc.pp.filter_genes(adata, min_counts=3)\n",
    "\n",
    "#Data normalizartion by adding counts and storing in raw for backup\n",
    "adata.layers[\"counts\"] = adata.X.copy()  \n",
    "sc.pp.normalize_total(adata, target_sum=1e4) #10000 genes per cell\n",
    "sc.pp.log1p(adata)\n",
    "adata.raw = adata \n"
   ]
  },
  {
   "cell_type": "code",
   "execution_count": null,
   "metadata": {},
   "outputs": [],
   "source": [
    "#Feature selection i.e., Highly Variable Genes selection\n",
    "sc.pp.highly_variable_genes(\n",
    "    adata,\n",
    "    n_top_genes=1200,\n",
    "    subset=True,\n",
    "    layer=\"counts\",\n",
    "    flavor=\"seurat_v3\",\n",
    "    batch_key=\"cell_source\",\n",
    ")"
   ]
  },
  {
   "cell_type": "code",
   "execution_count": null,
   "metadata": {},
   "outputs": [],
   "source": [
    "#Annotating data \n",
    "\n",
    "scvi.model.SCVI.setup_anndata(\n",
    "    adata,\n",
    "    layer=\"counts\",\n",
    "    categorical_covariate_keys=[\"cell_source\", \"donor\"],\n",
    "    continuous_covariate_keys=[\"percent_mito\", \"percent_ribo\"],\n",
    ")"
   ]
  },
  {
   "cell_type": "code",
   "execution_count": null,
   "metadata": {},
   "outputs": [],
   "source": [
    "##CREATING AND TRAINING MODEL##\n",
    "\n",
    "#Creating model\n",
    "model = scvi.model.SCVI(adata)\n",
    "model\n",
    "\n",
    "#Training\n",
    "model.train()\n"
   ]
  },
  {
   "cell_type": "code",
   "execution_count": null,
   "metadata": {},
   "outputs": [],
   "source": [
    "#Saving model\n",
    "model_dir = os.path.join(save_dir.name, \"scvi_model\")\n",
    "model.save(model_dir, overwrite=True)\n",
    "\n",
    "#Loading model\n",
    "model = scvi.model.SCVI.load(model_dir, adata=adata)"
   ]
  },
  {
   "cell_type": "code",
   "execution_count": null,
   "metadata": {},
   "outputs": [],
   "source": [
    "##OBTAINING MODEL OUTPUTS##\n",
    "\n",
    "#Storing outputs of scvi to anndata\n",
    "SCVI_LATENT_KEY = \"X_scVI\"\n",
    "\n",
    "latent = model.get_latent_representation()\n",
    "adata.obsm[SCVI_LATENT_KEY] = latent\n",
    "latent.shape"
   ]
  },
  {
   "cell_type": "code",
   "execution_count": null,
   "metadata": {},
   "outputs": [],
   "source": [
    "#Subsetting data based on celltype\n",
    "adata_subset = adata[adata.obs.cell_type == \"Fibroblast\"]\n",
    "latent_subset = model.get_latent_representation(adata_subset)\n",
    "latent.shape"
   ]
  },
  {
   "cell_type": "code",
   "execution_count": null,
   "metadata": {},
   "outputs": [],
   "source": [
    "#Obtaining normalized expression values\n",
    "denoised = model.get_normalized_expression(adata_subset, library_size=1e4)\n",
    "denoised.iloc[:5, :5]\n",
    "\n",
    "#Storing back normalized values back to anndata\n",
    "SCVI_NORMALIZED_KEY = \"scvi_normalized\"\n",
    "adata.layers[SCVI_NORMALIZED_KEY] = model.get_normalized_expression(library_size=10e4)"
   ]
  },
  {
   "cell_type": "code",
   "execution_count": null,
   "metadata": {},
   "outputs": [],
   "source": [
    "##INTEROPERABOILITY WITH SCANPY##\n",
    "\n",
    "#Visualization without batch correction\n",
    "\n",
    "# Dimensionality reduction and UMAP generation\n",
    "sc.tl.pca(adata)\n",
    "sc.pp.neighbors(adata, n_pcs=30, n_neighbors=20)\n",
    "sc.tl.umap(adata, min_dist=0.3)\n",
    "\n",
    "#Only cell type\n",
    "sc.pl.umap(\n",
    "    adata,\n",
    "    color=[\"cell_type\"],\n",
    "    frameon=False,\n",
    ")\n",
    "\n",
    "#Mapping based on cell source and donor\n",
    "sc.pl.umap(\n",
    "    adata,\n",
    "    color=[\"donor\", \"cell_source\"],\n",
    "    ncols=2,\n",
    "    frameon=False,\n",
    ")\n"
   ]
  },
  {
   "cell_type": "code",
   "execution_count": null,
   "metadata": {},
   "outputs": [],
   "source": [
    "#Visualization with batch correction\n",
    "\n",
    "# Using scVI latent space for UMAP generation\n",
    "sc.pp.neighbors(adata, use_rep=SCVI_LATENT_KEY)\n",
    "sc.tl.umap(adata, min_dist=0.3)\n",
    "\n",
    "#Only cell type\n",
    "sc.pl.umap(\n",
    "    adata,\n",
    "    color=[\"cell_type\"],\n",
    "    frameon=False,\n",
    ")\n",
    "\n",
    "#Mapping based on cell source and donor\n",
    "sc.pl.umap(\n",
    "    adata,\n",
    "    color=[\"donor\", \"cell_source\"],\n",
    "    ncols=2,\n",
    "    frameon=False,\n",
    ")"
   ]
  },
  {
   "cell_type": "code",
   "execution_count": null,
   "metadata": {},
   "outputs": [],
   "source": [
    "#Clustering on the scVI latent space\n",
    "\n",
    "# Loading neighbors calculated by scvi\n",
    "SCVI_CLUSTERS_KEY = \"leiden_scVI\"\n",
    "sc.tl.leiden(adata, key_added=SCVI_CLUSTERS_KEY, resolution=0.5)\n",
    "\n",
    "sc.pl.umap(\n",
    "    adata,\n",
    "    color=[SCVI_CLUSTERS_KEY],\n",
    "    frameon=False,\n",
    ")\n"
   ]
  },
  {
   "cell_type": "code",
   "execution_count": null,
   "metadata": {},
   "outputs": [],
   "source": [
    "##DIFFERENTIAL EXPRESSION##\n",
    "\n",
    "#Getting headers  of cell types\n",
    "adata.obs.cell_type.head()\n",
    "\n",
    "#Differential expression of 1 vs 1\n",
    "de_df = model.differential_expression(\n",
    "    groupby=\"cell_type\", group1=\"Endothelial\", group2=\"Fibroblast\"\n",
    ")\n",
    "de_df.head()\n",
    "\n",
    "#Differential expression of 1 vs all\n",
    "de_df = model.differential_expression(\n",
    "    groupby=\"cell_type\",\n",
    ")\n",
    "de_df.head()"
   ]
  },
  {
   "cell_type": "code",
   "execution_count": null,
   "metadata": {},
   "outputs": [],
   "source": [
    "#Extracting top markers for each cluster\n",
    "markers = {}\n",
    "cats = adata.obs.cell_type.cat.categories\n",
    "for i, c in enumerate(cats):\n",
    "    cid = f\"{c} vs Rest\"\n",
    "    cell_type_df = de_df.loc[de_df.comparison == cid]\n",
    "\n",
    "    cell_type_df = cell_type_df[cell_type_df.lfc_mean > 0]\n",
    "\n",
    "    cell_type_df = cell_type_df[cell_type_df[\"bayes_factor\"] > 3]\n",
    "    cell_type_df = cell_type_df[cell_type_df[\"non_zeros_proportion1\"] > 0.1]\n",
    "\n",
    "    markers[c] = cell_type_df.index.tolist()[:3]\n",
    "\n",
    "#Dendogram\n",
    "sc.tl.dendrogram(adata, groupby=\"cell_type\", use_rep=\"X_scVI\")\n",
    "\n",
    "#Dot plot\n",
    "sc.pl.dotplot(\n",
    "    adata,\n",
    "    markers,\n",
    "    groupby=\"cell_type\",\n",
    "    dendrogram=True,\n",
    "    color_map=\"Blues\",\n",
    "    swap_axes=True,\n",
    "    use_raw=True,\n",
    "    standard_scale=\"var\",\n",
    ")"
   ]
  },
  {
   "cell_type": "code",
   "execution_count": null,
   "metadata": {},
   "outputs": [],
   "source": [
    "#Heatmap visualization with normalized values as layers\n",
    "sc.pl.heatmap(\n",
    "    adata,\n",
    "    markers,\n",
    "    groupby=\"cell_type\",\n",
    "    layer=\"scvi_normalized\",\n",
    "    standard_scale=\"var\",\n",
    "    dendrogram=True,\n",
    "    figsize=(8, 12),\n",
    ")"
   ]
  }
 ],
 "metadata": {
  "kernelspec": {
   "display_name": "scvi-env",
   "language": "python",
   "name": "python3"
  },
  "language_info": {
   "codemirror_mode": {
    "name": "ipython",
    "version": 3
   },
   "file_extension": ".py",
   "mimetype": "text/x-python",
   "name": "python",
   "nbconvert_exporter": "python",
   "pygments_lexer": "ipython3",
   "version": "3.9.18"
  }
 },
 "nbformat": 4,
 "nbformat_minor": 2
}
