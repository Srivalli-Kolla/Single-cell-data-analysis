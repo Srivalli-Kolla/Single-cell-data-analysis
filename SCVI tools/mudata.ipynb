{
 "cells": [
  {
   "cell_type": "code",
   "execution_count": 3,
   "metadata": {},
   "outputs": [],
   "source": [
    "#Importing Packages\n",
    "\n",
    "import os\n",
    "import tempfile\n",
    "\n",
    "import anndata\n",
    "import muon\n",
    "import numpy as np\n",
    "import pooch\n",
    "import scanpy as sc\n",
    "import scvi\n",
    "import seaborn as sns\n",
    "import torch"
   ]
  },
  {
   "cell_type": "code",
   "execution_count": 9,
   "metadata": {},
   "outputs": [
    {
     "name": "stderr",
     "output_type": "stream",
     "text": [
      "100%|██████████| 5.58M/5.58M [00:00<00:00, 29.9MB/s]\n",
      "/Users/srivalli/conda/envs/scvi-env/lib/python3.9/site-packages/anndata/__init__.py:51: FutureWarning: `anndata.read` is deprecated, use `anndata.read_h5ad` instead. `ad.read` will be removed in mid 2024.\n",
      "  warnings.warn(\n"
     ]
    },
    {
     "data": {
      "text/html": [
       "<div>\n",
       "<style scoped>\n",
       "    .dataframe tbody tr th:only-of-type {\n",
       "        vertical-align: middle;\n",
       "    }\n",
       "\n",
       "    .dataframe tbody tr th {\n",
       "        vertical-align: top;\n",
       "    }\n",
       "\n",
       "    .dataframe thead th {\n",
       "        text-align: right;\n",
       "    }\n",
       "</style>\n",
       "<table border=\"1\" class=\"dataframe\">\n",
       "  <thead>\n",
       "    <tr style=\"text-align: right;\">\n",
       "      <th></th>\n",
       "      <th>gene_ids</th>\n",
       "    </tr>\n",
       "    <tr>\n",
       "      <th>index</th>\n",
       "      <th></th>\n",
       "    </tr>\n",
       "  </thead>\n",
       "  <tbody>\n",
       "    <tr>\n",
       "      <th>MIR1302-10</th>\n",
       "      <td>ENSG00000243485</td>\n",
       "    </tr>\n",
       "    <tr>\n",
       "      <th>FAM138A</th>\n",
       "      <td>ENSG00000237613</td>\n",
       "    </tr>\n",
       "    <tr>\n",
       "      <th>OR4F5</th>\n",
       "      <td>ENSG00000186092</td>\n",
       "    </tr>\n",
       "    <tr>\n",
       "      <th>RP11-34P13.7</th>\n",
       "      <td>ENSG00000238009</td>\n",
       "    </tr>\n",
       "    <tr>\n",
       "      <th>RP11-34P13.8</th>\n",
       "      <td>ENSG00000239945</td>\n",
       "    </tr>\n",
       "  </tbody>\n",
       "</table>\n",
       "</div>"
      ],
      "text/plain": [
       "                     gene_ids\n",
       "index                        \n",
       "MIR1302-10    ENSG00000243485\n",
       "FAM138A       ENSG00000237613\n",
       "OR4F5         ENSG00000186092\n",
       "RP11-34P13.7  ENSG00000238009\n",
       "RP11-34P13.8  ENSG00000239945"
      ]
     },
     "execution_count": 9,
     "metadata": {},
     "output_type": "execute_result"
    }
   ],
   "source": [
    "##DATA LOADING AND PREPERATION##\n",
    "\n",
    "#Downloading PBMC3k data having only anndata\n",
    "data_dir = \"/Users/srivalli/Desktop/Heart\"\n",
    "pbmc3k_path = os.path.join(data_dir, \"pbmc3k.h5ad\")\n",
    "\n",
    "#Downloading and Loading data\n",
    "pbmc3k = sc.read(\n",
    "    filename=pbmc3k_path, backup_url=\"http://falexwolf.de/data/pbmc3k_raw.h5ad\"\n",
    ")\n",
    "pbmc3k\n",
    "\n",
    "#To view var\n",
    "pbmc3k.var.head()"
   ]
  },
  {
   "cell_type": "code",
   "execution_count": 13,
   "metadata": {},
   "outputs": [
    {
     "name": "stderr",
     "output_type": "stream",
     "text": [
      "/Users/srivalli/conda/envs/scvi-env/lib/python3.9/site-packages/anndata/_core/anndata.py:1908: UserWarning: Variable names are not unique. To make them unique, call `.var_names_make_unique`.\n",
      "  utils.warn_names_duplicates(\"var\")\n",
      "/Users/srivalli/conda/envs/scvi-env/lib/python3.9/site-packages/anndata/_core/anndata.py:1908: UserWarning: Variable names are not unique. To make them unique, call `.var_names_make_unique`.\n",
      "  utils.warn_names_duplicates(\"var\")\n",
      "/Users/srivalli/conda/envs/scvi-env/lib/python3.9/site-packages/mudata/_core/mudata.py:479: UserWarning: var_names are not unique. To make them unique, call `.var_names_make_unique`.\n",
      "  warnings.warn(\n"
     ]
    },
    {
     "data": {
      "text/html": [
       "<div>\n",
       "<style scoped>\n",
       "    .dataframe tbody tr th:only-of-type {\n",
       "        vertical-align: middle;\n",
       "    }\n",
       "\n",
       "    .dataframe tbody tr th {\n",
       "        vertical-align: top;\n",
       "    }\n",
       "\n",
       "    .dataframe thead th {\n",
       "        text-align: right;\n",
       "    }\n",
       "</style>\n",
       "<table border=\"1\" class=\"dataframe\">\n",
       "  <thead>\n",
       "    <tr style=\"text-align: right;\">\n",
       "      <th></th>\n",
       "      <th>gene_ids</th>\n",
       "      <th>feature_types</th>\n",
       "      <th>genome</th>\n",
       "    </tr>\n",
       "  </thead>\n",
       "  <tbody>\n",
       "    <tr>\n",
       "      <th>MIR1302-2HG</th>\n",
       "      <td>ENSG00000243485</td>\n",
       "      <td>Gene Expression</td>\n",
       "      <td>GRCh38</td>\n",
       "    </tr>\n",
       "    <tr>\n",
       "      <th>FAM138A</th>\n",
       "      <td>ENSG00000237613</td>\n",
       "      <td>Gene Expression</td>\n",
       "      <td>GRCh38</td>\n",
       "    </tr>\n",
       "    <tr>\n",
       "      <th>OR4F5</th>\n",
       "      <td>ENSG00000186092</td>\n",
       "      <td>Gene Expression</td>\n",
       "      <td>GRCh38</td>\n",
       "    </tr>\n",
       "    <tr>\n",
       "      <th>AL627309.1</th>\n",
       "      <td>ENSG00000238009</td>\n",
       "      <td>Gene Expression</td>\n",
       "      <td>GRCh38</td>\n",
       "    </tr>\n",
       "    <tr>\n",
       "      <th>AL627309.3</th>\n",
       "      <td>ENSG00000239945</td>\n",
       "      <td>Gene Expression</td>\n",
       "      <td>GRCh38</td>\n",
       "    </tr>\n",
       "    <tr>\n",
       "      <th>...</th>\n",
       "      <td>...</td>\n",
       "      <td>...</td>\n",
       "      <td>...</td>\n",
       "    </tr>\n",
       "    <tr>\n",
       "      <th>HLA-DR_TotalSeqB</th>\n",
       "      <td>HLA-DR</td>\n",
       "      <td>Antibody Capture</td>\n",
       "      <td></td>\n",
       "    </tr>\n",
       "    <tr>\n",
       "      <th>TIGIT_TotalSeqB</th>\n",
       "      <td>TIGIT</td>\n",
       "      <td>Antibody Capture</td>\n",
       "      <td></td>\n",
       "    </tr>\n",
       "    <tr>\n",
       "      <th>IgG1_control_TotalSeqB</th>\n",
       "      <td>IgG1</td>\n",
       "      <td>Antibody Capture</td>\n",
       "      <td></td>\n",
       "    </tr>\n",
       "    <tr>\n",
       "      <th>IgG2a_control_TotalSeqB</th>\n",
       "      <td>IgG2a</td>\n",
       "      <td>Antibody Capture</td>\n",
       "      <td></td>\n",
       "    </tr>\n",
       "    <tr>\n",
       "      <th>IgG2b_control_TotalSeqB</th>\n",
       "      <td>IgG2b</td>\n",
       "      <td>Antibody Capture</td>\n",
       "      <td></td>\n",
       "    </tr>\n",
       "  </tbody>\n",
       "</table>\n",
       "<p>33570 rows × 3 columns</p>\n",
       "</div>"
      ],
      "text/plain": [
       "                                gene_ids     feature_types  genome\n",
       "MIR1302-2HG              ENSG00000243485   Gene Expression  GRCh38\n",
       "FAM138A                  ENSG00000237613   Gene Expression  GRCh38\n",
       "OR4F5                    ENSG00000186092   Gene Expression  GRCh38\n",
       "AL627309.1               ENSG00000238009   Gene Expression  GRCh38\n",
       "AL627309.3               ENSG00000239945   Gene Expression  GRCh38\n",
       "...                                  ...               ...     ...\n",
       "HLA-DR_TotalSeqB                  HLA-DR  Antibody Capture        \n",
       "TIGIT_TotalSeqB                    TIGIT  Antibody Capture        \n",
       "IgG1_control_TotalSeqB              IgG1  Antibody Capture        \n",
       "IgG2a_control_TotalSeqB            IgG2a  Antibody Capture        \n",
       "IgG2b_control_TotalSeqB            IgG2b  Antibody Capture        \n",
       "\n",
       "[33570 rows x 3 columns]"
      ]
     },
     "execution_count": 13,
     "metadata": {},
     "output_type": "execute_result"
    }
   ],
   "source": [
    "#Downloading PBMCK5 data having both Protein and RNA data\n",
    "def download_data(\n",
    "    data_dir = \"/Users/srivalli/Desktop/Heart\" ,  fname: str = \"pbmc5k_protein_filtered_feature_bc_matrix.h5\"\n",
    ") -> str:\n",
    "    \"\"\"Download the data files.\"\"\"\n",
    "    return pooch.retrieve(\n",
    "        url=\"https://cf.10xgenomics.com/samples/cell-exp/3.0.2/5k_pbmc_protein_v3/5k_pbmc_protein_v3_filtered_feature_bc_matrix.h5\",\n",
    "        known_hash=\"7695e6b1888bdae6f53b3a28a99f0a0cdf387d1685e330a597cdd4b5541f8abd\",\n",
    "        fname=fname,\n",
    "        path=data_dir,\n",
    "    )\n",
    "\n",
    "h5_path = download_data(data_dir)\n",
    "\n",
    "#Loading data\n",
    "pbmc5k = muon.read_10x_h5(h5_path)\n",
    "\n",
    "#Making sure that gene names are unique for downstream processing\n",
    "pbmc5k.var_names_make_unique()\n",
    "\n",
    "#Viewing variables\n",
    "pbmc5k.var"
   ]
  },
  {
   "cell_type": "code",
   "execution_count": 14,
   "metadata": {},
   "outputs": [
    {
     "data": {
      "text/html": [
       "<div>\n",
       "<style scoped>\n",
       "    .dataframe tbody tr th:only-of-type {\n",
       "        vertical-align: middle;\n",
       "    }\n",
       "\n",
       "    .dataframe tbody tr th {\n",
       "        vertical-align: top;\n",
       "    }\n",
       "\n",
       "    .dataframe thead th {\n",
       "        text-align: right;\n",
       "    }\n",
       "</style>\n",
       "<table border=\"1\" class=\"dataframe\">\n",
       "  <thead>\n",
       "    <tr style=\"text-align: right;\">\n",
       "      <th></th>\n",
       "      <th>batch</th>\n",
       "    </tr>\n",
       "  </thead>\n",
       "  <tbody>\n",
       "    <tr>\n",
       "      <th>GAGGGATGGGAAAT-1</th>\n",
       "      <td>0</td>\n",
       "    </tr>\n",
       "    <tr>\n",
       "      <th>AAGTACCTCCGGTTCT-1</th>\n",
       "      <td>1</td>\n",
       "    </tr>\n",
       "    <tr>\n",
       "      <th>GCATTAGAGGTCATAA-1</th>\n",
       "      <td>1</td>\n",
       "    </tr>\n",
       "    <tr>\n",
       "      <th>CATCGCTGGGATCT-1</th>\n",
       "      <td>0</td>\n",
       "    </tr>\n",
       "    <tr>\n",
       "      <th>CAGGCCAAGAGGCCAT-1</th>\n",
       "      <td>1</td>\n",
       "    </tr>\n",
       "  </tbody>\n",
       "</table>\n",
       "</div>"
      ],
      "text/plain": [
       "                   batch\n",
       "GAGGGATGGGAAAT-1       0\n",
       "AAGTACCTCCGGTTCT-1     1\n",
       "GCATTAGAGGTCATAA-1     1\n",
       "CATCGCTGGGATCT-1       0\n",
       "CAGGCCAAGAGGCCAT-1     1"
      ]
     },
     "execution_count": 14,
     "metadata": {},
     "output_type": "execute_result"
    }
   ],
   "source": [
    "#Concatenating datasets\n",
    "adata = anndata.concat([pbmc3k, pbmc5k.mod[\"rna\"]], join=\"inner\", label=\"batch\")\n",
    "\n",
    "#Data viewing\n",
    "adata.obs.sample(n=5)"
   ]
  },
  {
   "cell_type": "code",
   "execution_count": 18,
   "metadata": {},
   "outputs": [
    {
     "name": "stdout",
     "output_type": "stream",
     "text": [
      "# cells, # genes before filtering: (7947, 14309)\n",
      "# cells, # genes after filtering: (7947, 13482)\n"
     ]
    }
   ],
   "source": [
    "##PREPROCESSING DATA##\n",
    "\n",
    "#Removing outliers by filtration\n",
    "print(\"# cells, # genes before filtering:\", adata.shape)\n",
    "\n",
    "sc.pp.filter_genes(adata, min_counts=3)\n",
    "sc.pp.filter_cells(adata, min_counts=3)\n",
    "\n",
    "print(\"# cells, # genes after filtering:\", adata.shape)\n",
    "\n",
    "#Saving count information\n",
    "adata.layers[\"counts\"] = adata.X.copy()\n"
   ]
  },
  {
   "cell_type": "code",
   "execution_count": 16,
   "metadata": {},
   "outputs": [],
   "source": [
    "#Data Normalization using logarithmization - SCANPY #Saving as layer in anndata\n",
    "sc.pp.normalize_total(adata)\n",
    "sc.pp.log1p(adata)\n",
    "\n",
    "#Saving data\n",
    "adata.raw = adata"
   ]
  },
  {
   "cell_type": "code",
   "execution_count": 19,
   "metadata": {},
   "outputs": [
    {
     "data": {
      "text/html": [
       "<pre>MuData object with n_obs × n_vars = 7947 × 13482\n",
       "  2 modalities\n",
       "    rna:\t7947 x 13482\n",
       "      obs:\t&#x27;batch&#x27;, &#x27;n_counts&#x27;\n",
       "      var:\t&#x27;n_counts&#x27;\n",
       "      uns:\t&#x27;log1p&#x27;\n",
       "    log_norm_rna:\t7947 x 13482\n",
       "      obs:\t&#x27;batch&#x27;, &#x27;n_counts&#x27;\n",
       "      var:\t&#x27;n_counts&#x27;\n",
       "      uns:\t&#x27;log1p&#x27;</pre>"
      ],
      "text/plain": [
       "MuData object with n_obs × n_vars = 7947 × 13482\n",
       "  2 modalities\n",
       "    rna:\t7947 x 13482\n",
       "      obs:\t'batch', 'n_counts'\n",
       "      var:\t'n_counts'\n",
       "      uns:\t'log1p'\n",
       "    log_norm_rna:\t7947 x 13482\n",
       "      obs:\t'batch', 'n_counts'\n",
       "      var:\t'n_counts'\n",
       "      uns:\t'log1p'"
      ]
     },
     "execution_count": 19,
     "metadata": {},
     "output_type": "execute_result"
    }
   ],
   "source": [
    "#Data Normalization using SCVI #Saving as new MuData modality\n",
    "mdata = muon.MuData({\"rna\": adata.copy(), \"log_norm_rna\": adata.copy()}, axis=-1)\n",
    "# Now rna is count-based and log_norm_rna is log-normalized\n",
    "mdata.mod[\"rna\"].X = mdata.mod[\"rna\"].layers[\"counts\"]\n",
    "del mdata.mod[\"rna\"].raw\n",
    "del mdata.mod[\"rna\"].layers[\"counts\"]\n",
    "del mdata.mod[\"log_norm_rna\"].layers[\"counts\"]\n",
    "mdata"
   ]
  },
  {
   "cell_type": "code",
   "execution_count": null,
   "metadata": {},
   "outputs": [],
   "source": []
  }
 ],
 "metadata": {
  "kernelspec": {
   "display_name": "scvi-env",
   "language": "python",
   "name": "python3"
  },
  "language_info": {
   "codemirror_mode": {
    "name": "ipython",
    "version": 3
   },
   "file_extension": ".py",
   "mimetype": "text/x-python",
   "name": "python",
   "nbconvert_exporter": "python",
   "pygments_lexer": "ipython3",
   "version": "3.9.18"
  }
 },
 "nbformat": 4,
 "nbformat_minor": 2
}
